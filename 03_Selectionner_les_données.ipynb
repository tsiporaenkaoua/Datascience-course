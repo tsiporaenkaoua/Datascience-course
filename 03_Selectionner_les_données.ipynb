{
 "cells": [
  {
   "cell_type": "code",
   "execution_count": 3,
   "id": "e0516ccc-fc60-4a7c-9e71-2d796692f6b8",
   "metadata": {},
   "outputs": [],
   "source": [
    "import pandas as pd\n",
    "df = pd.read_csv(\"data.csv\")"
   ]
  },
  {
   "cell_type": "code",
   "execution_count": 4,
   "id": "fe7e57f6-b4df-48b8-87ad-c79d43467131",
   "metadata": {},
   "outputs": [
    {
     "data": {
      "text/html": [
       "<div>\n",
       "<style scoped>\n",
       "    .dataframe tbody tr th:only-of-type {\n",
       "        vertical-align: middle;\n",
       "    }\n",
       "\n",
       "    .dataframe tbody tr th {\n",
       "        vertical-align: top;\n",
       "    }\n",
       "\n",
       "    .dataframe thead th {\n",
       "        text-align: right;\n",
       "    }\n",
       "</style>\n",
       "<table border=\"1\" class=\"dataframe\">\n",
       "  <thead>\n",
       "    <tr style=\"text-align: right;\">\n",
       "      <th></th>\n",
       "      <th>id</th>\n",
       "      <th>date</th>\n",
       "      <th>first_name</th>\n",
       "      <th>last_name</th>\n",
       "      <th>email</th>\n",
       "      <th>gender</th>\n",
       "      <th>ip_address</th>\n",
       "      <th>country</th>\n",
       "      <th>price_paid</th>\n",
       "      <th>tax</th>\n",
       "    </tr>\n",
       "  </thead>\n",
       "  <tbody>\n",
       "    <tr>\n",
       "      <th>0</th>\n",
       "      <td>1</td>\n",
       "      <td>03/28/2021</td>\n",
       "      <td>Marylin</td>\n",
       "      <td>Alders</td>\n",
       "      <td>malders0@shop-pro.jp</td>\n",
       "      <td>Male</td>\n",
       "      <td>160.119.8.119</td>\n",
       "      <td>Canada</td>\n",
       "      <td>$5.36</td>\n",
       "      <td>NaN</td>\n",
       "    </tr>\n",
       "    <tr>\n",
       "      <th>1</th>\n",
       "      <td>2</td>\n",
       "      <td>03/19/2021</td>\n",
       "      <td>Hinda</td>\n",
       "      <td>Harridge</td>\n",
       "      <td>hharridge1@gnu.org</td>\n",
       "      <td>Female</td>\n",
       "      <td>210.51.172.132</td>\n",
       "      <td>Canada</td>\n",
       "      <td>$8.32</td>\n",
       "      <td>NaN</td>\n",
       "    </tr>\n",
       "    <tr>\n",
       "      <th>2</th>\n",
       "      <td>3</td>\n",
       "      <td>03/17/2021</td>\n",
       "      <td>Erl</td>\n",
       "      <td>Kilminster</td>\n",
       "      <td>ekilminster2@etsy.com</td>\n",
       "      <td>Male</td>\n",
       "      <td>213.8.101.145</td>\n",
       "      <td>United States</td>\n",
       "      <td>$3.73</td>\n",
       "      <td>20.0</td>\n",
       "    </tr>\n",
       "    <tr>\n",
       "      <th>3</th>\n",
       "      <td>4</td>\n",
       "      <td>03/19/2021</td>\n",
       "      <td>Grata</td>\n",
       "      <td>Brantl</td>\n",
       "      <td>gbrantl3@umn.edu</td>\n",
       "      <td>Female</td>\n",
       "      <td>5.140.237.101</td>\n",
       "      <td>United States</td>\n",
       "      <td>$3.70</td>\n",
       "      <td>20.0</td>\n",
       "    </tr>\n",
       "    <tr>\n",
       "      <th>4</th>\n",
       "      <td>5</td>\n",
       "      <td>03/24/2021</td>\n",
       "      <td>Kanya</td>\n",
       "      <td>Beasant</td>\n",
       "      <td>kbeasant4@jigsy.com</td>\n",
       "      <td>Male</td>\n",
       "      <td>106.252.162.233</td>\n",
       "      <td>Morocco</td>\n",
       "      <td>$9.24</td>\n",
       "      <td>20.0</td>\n",
       "    </tr>\n",
       "  </tbody>\n",
       "</table>\n",
       "</div>"
      ],
      "text/plain": [
       "   id        date first_name   last_name                  email  gender  \\\n",
       "0   1  03/28/2021    Marylin      Alders   malders0@shop-pro.jp    Male   \n",
       "1   2  03/19/2021      Hinda    Harridge     hharridge1@gnu.org  Female   \n",
       "2   3  03/17/2021        Erl  Kilminster  ekilminster2@etsy.com    Male   \n",
       "3   4  03/19/2021      Grata      Brantl       gbrantl3@umn.edu  Female   \n",
       "4   5  03/24/2021      Kanya     Beasant    kbeasant4@jigsy.com    Male   \n",
       "\n",
       "        ip_address        country price_paid   tax  \n",
       "0    160.119.8.119         Canada      $5.36   NaN  \n",
       "1   210.51.172.132         Canada      $8.32   NaN  \n",
       "2    213.8.101.145  United States      $3.73  20.0  \n",
       "3    5.140.237.101  United States      $3.70  20.0  \n",
       "4  106.252.162.233        Morocco      $9.24  20.0  "
      ]
     },
     "execution_count": 4,
     "metadata": {},
     "output_type": "execute_result"
    }
   ],
   "source": [
    "df.head()"
   ]
  },
  {
   "cell_type": "code",
   "execution_count": 5,
   "id": "fabcd798-fa23-4391-9eb0-23a78770716b",
   "metadata": {},
   "outputs": [
    {
     "data": {
      "text/plain": [
       "0     malders0@shop-pro.jp\n",
       "1       hharridge1@gnu.org\n",
       "2    ekilminster2@etsy.com\n",
       "3         gbrantl3@umn.edu\n",
       "4      kbeasant4@jigsy.com\n",
       "Name: email, dtype: object"
      ]
     },
     "execution_count": 5,
     "metadata": {},
     "output_type": "execute_result"
    }
   ],
   "source": [
    "df[\"email\"].head()"
   ]
  },
  {
   "cell_type": "code",
   "execution_count": 6,
   "id": "5e579d52-7420-4073-8859-abb51c5e8293",
   "metadata": {},
   "outputs": [
    {
     "data": {
      "text/plain": [
       "0            malders0@shop-pro.jp\n",
       "1              hharridge1@gnu.org\n",
       "2           ekilminster2@etsy.com\n",
       "3                gbrantl3@umn.edu\n",
       "4             kbeasant4@jigsy.com\n",
       "                  ...            \n",
       "995          derrigorn@elpais.com\n",
       "996         arastallro@toplist.cz\n",
       "997    bstickelsrp@cloudflare.com\n",
       "998        ptesoerq@rakuten.co.jp\n",
       "999         rpringuerrr@house.gov\n",
       "Name: email, Length: 1000, dtype: object"
      ]
     },
     "execution_count": 6,
     "metadata": {},
     "output_type": "execute_result"
    }
   ],
   "source": [
    "df.email"
   ]
  },
  {
   "cell_type": "code",
   "execution_count": 7,
   "id": "08456cc2-ec01-48d1-9499-27106bbb2be1",
   "metadata": {},
   "outputs": [
    {
     "data": {
      "text/plain": [
       "pandas.core.frame.DataFrame"
      ]
     },
     "execution_count": 7,
     "metadata": {},
     "output_type": "execute_result"
    }
   ],
   "source": [
    "type(df)#dataframe c le tableau complet avec plein de colonnes, agencement de plusieurs séries"
   ]
  },
  {
   "cell_type": "code",
   "execution_count": 8,
   "id": "39eff572-4c6f-4c14-ad83-6be39901a187",
   "metadata": {},
   "outputs": [
    {
     "data": {
      "text/plain": [
       "pandas.core.series.Series"
      ]
     },
     "execution_count": 8,
     "metadata": {},
     "output_type": "execute_result"
    }
   ],
   "source": [
    "type(df.email)#series cest une colonne/une ligne a l'interieur de notre dataFrame"
   ]
  },
  {
   "cell_type": "markdown",
   "id": "b18a1a1d-7702-4da4-88d6-8ff97448d896",
   "metadata": {},
   "source": [
    "#La distinction entre datastring et series et inportante car certaines fonctiones ne sont valable que pour l'un ou l'autre des types\n"
   ]
  },
  {
   "cell_type": "code",
   "execution_count": 9,
   "id": "e410e68b-891d-464c-acb6-1369a07fcb5b",
   "metadata": {},
   "outputs": [
    {
     "data": {
      "text/html": [
       "<div>\n",
       "<style scoped>\n",
       "    .dataframe tbody tr th:only-of-type {\n",
       "        vertical-align: middle;\n",
       "    }\n",
       "\n",
       "    .dataframe tbody tr th {\n",
       "        vertical-align: top;\n",
       "    }\n",
       "\n",
       "    .dataframe thead th {\n",
       "        text-align: right;\n",
       "    }\n",
       "</style>\n",
       "<table border=\"1\" class=\"dataframe\">\n",
       "  <thead>\n",
       "    <tr style=\"text-align: right;\">\n",
       "      <th></th>\n",
       "      <th>id</th>\n",
       "      <th>date</th>\n",
       "      <th>first_name</th>\n",
       "      <th>last_name</th>\n",
       "      <th>email</th>\n",
       "      <th>gender</th>\n",
       "      <th>ip_address</th>\n",
       "      <th>country</th>\n",
       "      <th>price_paid</th>\n",
       "      <th>tax</th>\n",
       "    </tr>\n",
       "  </thead>\n",
       "  <tbody>\n",
       "    <tr>\n",
       "      <th>10</th>\n",
       "      <td>11</td>\n",
       "      <td>03/11/2021</td>\n",
       "      <td>Lief</td>\n",
       "      <td>Woodcraft</td>\n",
       "      <td>lwoodcrafta@sitemeter.com</td>\n",
       "      <td>Male</td>\n",
       "      <td>201.76.240.51</td>\n",
       "      <td>Canada</td>\n",
       "      <td>$5.71</td>\n",
       "      <td>NaN</td>\n",
       "    </tr>\n",
       "    <tr>\n",
       "      <th>11</th>\n",
       "      <td>12</td>\n",
       "      <td>03/16/2021</td>\n",
       "      <td>Bailie</td>\n",
       "      <td>Wyman</td>\n",
       "      <td>bwymanb@lulu.com</td>\n",
       "      <td>Male</td>\n",
       "      <td>222.60.138.222</td>\n",
       "      <td>United States</td>\n",
       "      <td>$3.15</td>\n",
       "      <td>20.0</td>\n",
       "    </tr>\n",
       "    <tr>\n",
       "      <th>12</th>\n",
       "      <td>13</td>\n",
       "      <td>03/05/2021</td>\n",
       "      <td>Janice</td>\n",
       "      <td>Morillas</td>\n",
       "      <td>jmorillasc@miibeian.gov.cn</td>\n",
       "      <td>Female</td>\n",
       "      <td>24.25.198.252</td>\n",
       "      <td>Canada</td>\n",
       "      <td>$5.30</td>\n",
       "      <td>20.0</td>\n",
       "    </tr>\n",
       "    <tr>\n",
       "      <th>13</th>\n",
       "      <td>14</td>\n",
       "      <td>03/24/2021</td>\n",
       "      <td>Cull</td>\n",
       "      <td>Vassie</td>\n",
       "      <td>cvassied@unblog.fr</td>\n",
       "      <td>NaN</td>\n",
       "      <td>18.203.61.94</td>\n",
       "      <td>France</td>\n",
       "      <td>$5.97</td>\n",
       "      <td>20.0</td>\n",
       "    </tr>\n",
       "    <tr>\n",
       "      <th>14</th>\n",
       "      <td>15</td>\n",
       "      <td>03/21/2021</td>\n",
       "      <td>Oralie</td>\n",
       "      <td>Maryon</td>\n",
       "      <td>omaryone@va.gov</td>\n",
       "      <td>Female</td>\n",
       "      <td>215.248.16.198</td>\n",
       "      <td>United States</td>\n",
       "      <td>$4.53</td>\n",
       "      <td>20.0</td>\n",
       "    </tr>\n",
       "    <tr>\n",
       "      <th>15</th>\n",
       "      <td>16</td>\n",
       "      <td>03/24/2021</td>\n",
       "      <td>Julina</td>\n",
       "      <td>Faint</td>\n",
       "      <td>jfaintf@amazon.co.jp</td>\n",
       "      <td>Female</td>\n",
       "      <td>96.193.4.151</td>\n",
       "      <td>United States</td>\n",
       "      <td>$4.10</td>\n",
       "      <td>20.0</td>\n",
       "    </tr>\n",
       "    <tr>\n",
       "      <th>16</th>\n",
       "      <td>17</td>\n",
       "      <td>03/27/2021</td>\n",
       "      <td>Eve</td>\n",
       "      <td>Allaway</td>\n",
       "      <td>eallawayg@ebay.co.uk</td>\n",
       "      <td>Female</td>\n",
       "      <td>184.107.59.156</td>\n",
       "      <td>United States</td>\n",
       "      <td>$6.44</td>\n",
       "      <td>20.0</td>\n",
       "    </tr>\n",
       "    <tr>\n",
       "      <th>17</th>\n",
       "      <td>18</td>\n",
       "      <td>03/20/2021</td>\n",
       "      <td>Esta</td>\n",
       "      <td>Boulden</td>\n",
       "      <td>ebouldenh@posterous.com</td>\n",
       "      <td>NaN</td>\n",
       "      <td>220.109.140.190</td>\n",
       "      <td>United States</td>\n",
       "      <td>$3.16</td>\n",
       "      <td>20.0</td>\n",
       "    </tr>\n",
       "    <tr>\n",
       "      <th>18</th>\n",
       "      <td>19</td>\n",
       "      <td>03/16/2021</td>\n",
       "      <td>Judye</td>\n",
       "      <td>Behan</td>\n",
       "      <td>jbehani@google.es</td>\n",
       "      <td>Female</td>\n",
       "      <td>27.196.2.18</td>\n",
       "      <td>France</td>\n",
       "      <td>$4.90</td>\n",
       "      <td>20.0</td>\n",
       "    </tr>\n",
       "    <tr>\n",
       "      <th>19</th>\n",
       "      <td>20</td>\n",
       "      <td>03/01/2021</td>\n",
       "      <td>Sibeal</td>\n",
       "      <td>Mounch</td>\n",
       "      <td>smounchj@rakuten.co.jp</td>\n",
       "      <td>Male</td>\n",
       "      <td>218.17.7.177</td>\n",
       "      <td>Canada</td>\n",
       "      <td>$5.82</td>\n",
       "      <td>20.0</td>\n",
       "    </tr>\n",
       "  </tbody>\n",
       "</table>\n",
       "</div>"
      ],
      "text/plain": [
       "    id        date first_name  last_name                       email  gender  \\\n",
       "10  11  03/11/2021       Lief  Woodcraft   lwoodcrafta@sitemeter.com    Male   \n",
       "11  12  03/16/2021     Bailie      Wyman            bwymanb@lulu.com    Male   \n",
       "12  13  03/05/2021     Janice   Morillas  jmorillasc@miibeian.gov.cn  Female   \n",
       "13  14  03/24/2021       Cull     Vassie          cvassied@unblog.fr     NaN   \n",
       "14  15  03/21/2021     Oralie     Maryon             omaryone@va.gov  Female   \n",
       "15  16  03/24/2021     Julina      Faint        jfaintf@amazon.co.jp  Female   \n",
       "16  17  03/27/2021        Eve    Allaway        eallawayg@ebay.co.uk  Female   \n",
       "17  18  03/20/2021       Esta    Boulden     ebouldenh@posterous.com     NaN   \n",
       "18  19  03/16/2021      Judye      Behan           jbehani@google.es  Female   \n",
       "19  20  03/01/2021     Sibeal     Mounch      smounchj@rakuten.co.jp    Male   \n",
       "\n",
       "         ip_address        country price_paid   tax  \n",
       "10    201.76.240.51         Canada      $5.71   NaN  \n",
       "11   222.60.138.222  United States      $3.15  20.0  \n",
       "12    24.25.198.252         Canada      $5.30  20.0  \n",
       "13     18.203.61.94         France      $5.97  20.0  \n",
       "14   215.248.16.198  United States      $4.53  20.0  \n",
       "15     96.193.4.151  United States      $4.10  20.0  \n",
       "16   184.107.59.156  United States      $6.44  20.0  \n",
       "17  220.109.140.190  United States      $3.16  20.0  \n",
       "18      27.196.2.18         France      $4.90  20.0  \n",
       "19     218.17.7.177         Canada      $5.82  20.0  "
      ]
     },
     "execution_count": 9,
     "metadata": {},
     "output_type": "execute_result"
    }
   ],
   "source": [
    "df[10:20]"
   ]
  },
  {
   "cell_type": "code",
   "execution_count": 10,
   "id": "22784d61-b3ce-4191-a0bb-05a7f90b3fd9",
   "metadata": {},
   "outputs": [
    {
     "data": {
      "text/html": [
       "<div>\n",
       "<style scoped>\n",
       "    .dataframe tbody tr th:only-of-type {\n",
       "        vertical-align: middle;\n",
       "    }\n",
       "\n",
       "    .dataframe tbody tr th {\n",
       "        vertical-align: top;\n",
       "    }\n",
       "\n",
       "    .dataframe thead th {\n",
       "        text-align: right;\n",
       "    }\n",
       "</style>\n",
       "<table border=\"1\" class=\"dataframe\">\n",
       "  <thead>\n",
       "    <tr style=\"text-align: right;\">\n",
       "      <th></th>\n",
       "      <th>id</th>\n",
       "      <th>date</th>\n",
       "      <th>first_name</th>\n",
       "      <th>last_name</th>\n",
       "      <th>email</th>\n",
       "      <th>gender</th>\n",
       "      <th>ip_address</th>\n",
       "      <th>country</th>\n",
       "      <th>price_paid</th>\n",
       "      <th>tax</th>\n",
       "    </tr>\n",
       "  </thead>\n",
       "  <tbody>\n",
       "    <tr>\n",
       "      <th>10</th>\n",
       "      <td>11</td>\n",
       "      <td>03/11/2021</td>\n",
       "      <td>Lief</td>\n",
       "      <td>Woodcraft</td>\n",
       "      <td>lwoodcrafta@sitemeter.com</td>\n",
       "      <td>Male</td>\n",
       "      <td>201.76.240.51</td>\n",
       "      <td>Canada</td>\n",
       "      <td>$5.71</td>\n",
       "      <td>NaN</td>\n",
       "    </tr>\n",
       "    <tr>\n",
       "      <th>11</th>\n",
       "      <td>12</td>\n",
       "      <td>03/16/2021</td>\n",
       "      <td>Bailie</td>\n",
       "      <td>Wyman</td>\n",
       "      <td>bwymanb@lulu.com</td>\n",
       "      <td>Male</td>\n",
       "      <td>222.60.138.222</td>\n",
       "      <td>United States</td>\n",
       "      <td>$3.15</td>\n",
       "      <td>20.0</td>\n",
       "    </tr>\n",
       "    <tr>\n",
       "      <th>12</th>\n",
       "      <td>13</td>\n",
       "      <td>03/05/2021</td>\n",
       "      <td>Janice</td>\n",
       "      <td>Morillas</td>\n",
       "      <td>jmorillasc@miibeian.gov.cn</td>\n",
       "      <td>Female</td>\n",
       "      <td>24.25.198.252</td>\n",
       "      <td>Canada</td>\n",
       "      <td>$5.30</td>\n",
       "      <td>20.0</td>\n",
       "    </tr>\n",
       "    <tr>\n",
       "      <th>13</th>\n",
       "      <td>14</td>\n",
       "      <td>03/24/2021</td>\n",
       "      <td>Cull</td>\n",
       "      <td>Vassie</td>\n",
       "      <td>cvassied@unblog.fr</td>\n",
       "      <td>NaN</td>\n",
       "      <td>18.203.61.94</td>\n",
       "      <td>France</td>\n",
       "      <td>$5.97</td>\n",
       "      <td>20.0</td>\n",
       "    </tr>\n",
       "  </tbody>\n",
       "</table>\n",
       "</div>"
      ],
      "text/plain": [
       "    id        date first_name  last_name                       email  gender  \\\n",
       "10  11  03/11/2021       Lief  Woodcraft   lwoodcrafta@sitemeter.com    Male   \n",
       "11  12  03/16/2021     Bailie      Wyman            bwymanb@lulu.com    Male   \n",
       "12  13  03/05/2021     Janice   Morillas  jmorillasc@miibeian.gov.cn  Female   \n",
       "13  14  03/24/2021       Cull     Vassie          cvassied@unblog.fr     NaN   \n",
       "\n",
       "        ip_address        country price_paid   tax  \n",
       "10   201.76.240.51         Canada      $5.71   NaN  \n",
       "11  222.60.138.222  United States      $3.15  20.0  \n",
       "12   24.25.198.252         Canada      $5.30  20.0  \n",
       "13    18.203.61.94         France      $5.97  20.0  "
      ]
     },
     "execution_count": 10,
     "metadata": {},
     "output_type": "execute_result"
    }
   ],
   "source": [
    "df.loc[10:13] # ca peut cibler des lignes= rangées precises "
   ]
  },
  {
   "cell_type": "code",
   "execution_count": 11,
   "id": "224e213b-11fe-4649-aeb8-69f4ec3d3d0a",
   "metadata": {},
   "outputs": [],
   "source": [
    "df_email = df.set_index(\"email\")\n"
   ]
  },
  {
   "cell_type": "code",
   "execution_count": 14,
   "id": "3bbac535-2b87-48f1-bbe6-caca9f25397c",
   "metadata": {},
   "outputs": [
    {
     "data": {
      "text/plain": [
       "[13,\n",
       " '03/05/2021',\n",
       " 'Janice',\n",
       " 'Morillas',\n",
       " 'Female',\n",
       " '24.25.198.252',\n",
       " 'Canada',\n",
       " '$5.30',\n",
       " 20.0]"
      ]
     },
     "execution_count": 14,
     "metadata": {},
     "output_type": "execute_result"
    }
   ],
   "source": [
    "df_email.loc[\"jmorillasc@miibeian.gov.cn\"].values.tolist()"
   ]
  },
  {
   "cell_type": "code",
   "execution_count": 15,
   "id": "e93a9aa4-032d-438e-80aa-1c292d0adb44",
   "metadata": {},
   "outputs": [
    {
     "data": {
      "text/html": [
       "<div>\n",
       "<style scoped>\n",
       "    .dataframe tbody tr th:only-of-type {\n",
       "        vertical-align: middle;\n",
       "    }\n",
       "\n",
       "    .dataframe tbody tr th {\n",
       "        vertical-align: top;\n",
       "    }\n",
       "\n",
       "    .dataframe thead th {\n",
       "        text-align: right;\n",
       "    }\n",
       "</style>\n",
       "<table border=\"1\" class=\"dataframe\">\n",
       "  <thead>\n",
       "    <tr style=\"text-align: right;\">\n",
       "      <th></th>\n",
       "      <th>id</th>\n",
       "      <th>date</th>\n",
       "      <th>first_name</th>\n",
       "      <th>last_name</th>\n",
       "      <th>gender</th>\n",
       "      <th>ip_address</th>\n",
       "      <th>country</th>\n",
       "      <th>price_paid</th>\n",
       "      <th>tax</th>\n",
       "    </tr>\n",
       "    <tr>\n",
       "      <th>email</th>\n",
       "      <th></th>\n",
       "      <th></th>\n",
       "      <th></th>\n",
       "      <th></th>\n",
       "      <th></th>\n",
       "      <th></th>\n",
       "      <th></th>\n",
       "      <th></th>\n",
       "      <th></th>\n",
       "    </tr>\n",
       "  </thead>\n",
       "  <tbody>\n",
       "    <tr>\n",
       "      <th>jmorillasc@miibeian.gov.cn</th>\n",
       "      <td>13</td>\n",
       "      <td>03/05/2021</td>\n",
       "      <td>Janice</td>\n",
       "      <td>Morillas</td>\n",
       "      <td>Female</td>\n",
       "      <td>24.25.198.252</td>\n",
       "      <td>Canada</td>\n",
       "      <td>$5.30</td>\n",
       "      <td>20.0</td>\n",
       "    </tr>\n",
       "    <tr>\n",
       "      <th>lwoodcrafta@sitemeter.com</th>\n",
       "      <td>11</td>\n",
       "      <td>03/11/2021</td>\n",
       "      <td>Lief</td>\n",
       "      <td>Woodcraft</td>\n",
       "      <td>Male</td>\n",
       "      <td>201.76.240.51</td>\n",
       "      <td>Canada</td>\n",
       "      <td>$5.71</td>\n",
       "      <td>NaN</td>\n",
       "    </tr>\n",
       "  </tbody>\n",
       "</table>\n",
       "</div>"
      ],
      "text/plain": [
       "                            id        date first_name  last_name  gender  \\\n",
       "email                                                                      \n",
       "jmorillasc@miibeian.gov.cn  13  03/05/2021     Janice   Morillas  Female   \n",
       "lwoodcrafta@sitemeter.com   11  03/11/2021       Lief  Woodcraft    Male   \n",
       "\n",
       "                               ip_address country price_paid   tax  \n",
       "email                                                               \n",
       "jmorillasc@miibeian.gov.cn  24.25.198.252  Canada      $5.30  20.0  \n",
       "lwoodcrafta@sitemeter.com   201.76.240.51  Canada      $5.71   NaN  "
      ]
     },
     "execution_count": 15,
     "metadata": {},
     "output_type": "execute_result"
    }
   ],
   "source": [
    "df_email.loc[[\"jmorillasc@miibeian.gov.cn\",\"lwoodcrafta@sitemeter.com\"]]# création d'un objet de type dataframe"
   ]
  },
  {
   "cell_type": "code",
   "execution_count": 16,
   "id": "5af92996-0275-4996-afd2-b1c49c218d5a",
   "metadata": {},
   "outputs": [
    {
     "data": {
      "text/plain": [
       "pandas.core.frame.DataFrame"
      ]
     },
     "execution_count": 16,
     "metadata": {},
     "output_type": "execute_result"
    }
   ],
   "source": [
    "type(df_email.loc[[\"jmorillasc@miibeian.gov.cn\",\"lwoodcrafta@sitemeter.com\"]])"
   ]
  },
  {
   "cell_type": "code",
   "execution_count": null,
   "id": "aaa951fa-8567-4b50-9200-8def46ac1f99",
   "metadata": {},
   "outputs": [],
   "source": []
  }
 ],
 "metadata": {
  "kernelspec": {
   "display_name": "Python 3 (ipykernel)",
   "language": "python",
   "name": "python3"
  },
  "language_info": {
   "codemirror_mode": {
    "name": "ipython",
    "version": 3
   },
   "file_extension": ".py",
   "mimetype": "text/x-python",
   "name": "python",
   "nbconvert_exporter": "python",
   "pygments_lexer": "ipython3",
   "version": "3.12.7"
  }
 },
 "nbformat": 4,
 "nbformat_minor": 5
}
